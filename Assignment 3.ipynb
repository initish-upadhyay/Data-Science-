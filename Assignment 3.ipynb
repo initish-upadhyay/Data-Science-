{
 "cells": [
  {
   "cell_type": "markdown",
   "metadata": {},
   "source": [
    "# Question 1"
   ]
  },
  {
   "cell_type": "code",
   "execution_count": 1,
   "metadata": {},
   "outputs": [
    {
     "name": "stdout",
     "output_type": "stream",
     "text": [
      "[ 2  5  8 11 14 17 20 23 26 29 32 35 38 41 44 47 50]\n"
     ]
    }
   ],
   "source": [
    "#Importing the numpy package\n",
    "import numpy as np\n",
    "#Creating a numpy array\n",
    "array = np.arange(2,51,3)\n",
    "print(array)"
   ]
  },
  {
   "cell_type": "markdown",
   "metadata": {},
   "source": [
    "# Question 2"
   ]
  },
  {
   "cell_type": "code",
   "execution_count": 3,
   "metadata": {},
   "outputs": [
    {
     "name": "stdout",
     "output_type": "stream",
     "text": [
      "12\n",
      "36\n",
      "48\n",
      "6\n",
      "74\n",
      "List 1 : [12, 36, 48, 6, 74]\n",
      "63\n",
      "11\n",
      "39\n",
      "4\n",
      "69\n",
      "List 2 : [63, 11, 39, 4, 69]\n",
      "List 1 converted into array : [12 36 48  6 74]\n",
      "List 2 converted into array : [63 11 39  4 69]\n",
      "The concatenation of the two arrays is : [12 36 48  6 74 63 11 39  4 69]\n",
      "The sorted array is : [ 4  6 11 12 36 39 48 63 69 74]\n"
     ]
    }
   ],
   "source": [
    "#Creating 2 lists\n",
    "list1 = []\n",
    "list2 = []\n",
    "#Accepting 5 elements in each list\n",
    "#for list1\n",
    "for i in range(5):\n",
    "    x = int(input())\n",
    "    list1.append(x)\n",
    "print(\"List 1 :\",list1)\n",
    "#for list2\n",
    "for i in range(5):\n",
    "    y = int(input())\n",
    "    list2.append(y)\n",
    "print(\"List 2 :\",list2)\n",
    "#Converting both lists into numpy array\n",
    "array1 = np.array(list1)\n",
    "array2 = np.array(list2)\n",
    "print(\"List 1 converted into array :\",array1)\n",
    "print(\"List 2 converted into array :\",array2)\n",
    "#Concatenate both the arrays\n",
    "con = np.concatenate((array1,array2))\n",
    "print(\"The concatenation of the two arrays is :\",con)\n",
    "#Sorting the arrays\n",
    "sort = np.sort(con)\n",
    "print(\"The sorted array is :\", sort)"
   ]
  },
  {
   "cell_type": "markdown",
   "metadata": {},
   "source": [
    "# Question 3"
   ]
  },
  {
   "cell_type": "code",
   "execution_count": 6,
   "metadata": {},
   "outputs": [
    {
     "name": "stdout",
     "output_type": "stream",
     "text": [
      "The array is : [[1 6 3]\n",
      " [4 9 8]]\n",
      "The dimmension of array is : 2\n",
      "The size of array is : 6\n"
     ]
    }
   ],
   "source": [
    "#Defining the array\n",
    "array = np.array([[1,6,3],[4,9,8]])\n",
    "print(\"The array is :\",array)\n",
    "#Finding the dimension of the array\n",
    "print(\"The dimmension of array is :\",array.ndim)\n",
    "#Finding the size of the array\n",
    "print(\"The size of array is :\",array.size)"
   ]
  },
  {
   "cell_type": "markdown",
   "metadata": {},
   "source": [
    "# Question 4"
   ]
  },
  {
   "cell_type": "code",
   "execution_count": 8,
   "metadata": {},
   "outputs": [
    {
     "name": "stdout",
     "output_type": "stream",
     "text": [
      "6\n",
      "Shape of 1D array is: (6,)\n",
      "The row of 2D array is : (1, 6)\n",
      "The column of 2D array is : (6, 1)\n"
     ]
    }
   ],
   "source": [
    "#Defining the array\n",
    "array = np.arange(int(input()))\n",
    "#Checking the shape of 1D array created\n",
    "print(\"Shape of 1D array is:\",array.shape)\n",
    "#Converting 1D array into 2D array\n",
    "array_row = array[np.newaxis]\n",
    "print(\"The row of 2D array is :\",array_row.shape)\n",
    "array_col = array[:, np.newaxis]\n",
    "print(\"The column of 2D array is :\",array_col.shape)"
   ]
  },
  {
   "cell_type": "markdown",
   "metadata": {},
   "source": [
    "# Question 5"
   ]
  },
  {
   "cell_type": "code",
   "execution_count": 5,
   "metadata": {},
   "outputs": [
    {
     "name": "stdout",
     "output_type": "stream",
     "text": [
      "Vertical Stacking :\n",
      " [[2 4]\n",
      " [3 6]\n",
      " [9 7]\n",
      " [8 1]]\n",
      "Horizontal Stacking :\n",
      " [[2 4 9 7]\n",
      " [3 6 8 1]]\n"
     ]
    }
   ],
   "source": [
    "#Importing the numpy package\n",
    "import numpy as np\n",
    "#Creating square numpy arrays\n",
    "a = np.array([[2,4],[3,6]])\n",
    "b = np.array([[9,7],[8,1]])\n",
    "#Vertical Stacking\n",
    "print(\"Vertical Stacking :\\n\", np.vstack((a,b)))\n",
    "#Horizontal Stacking\n",
    "print(\"Horizontal Stacking :\\n\", np.hstack((a,b)))"
   ]
  },
  {
   "cell_type": "markdown",
   "metadata": {},
   "source": [
    "# Question 6"
   ]
  },
  {
   "cell_type": "code",
   "execution_count": 7,
   "metadata": {},
   "outputs": [
    {
     "name": "stdout",
     "output_type": "stream",
     "text": [
      "[[4 3]\n",
      " [5 1]\n",
      " [6 1]\n",
      " [7 1]\n",
      " [8 1]\n",
      " [9 1]]\n"
     ]
    }
   ],
   "source": [
    "array = np.array([4,7,8,9,5,6,4,4])\n",
    "unique, counts = np.unique(array, return_counts=True)\n",
    "items = np.asarray((unique, counts)).T\n",
    "print(items)"
   ]
  },
  {
   "cell_type": "code",
   "execution_count": null,
   "metadata": {},
   "outputs": [],
   "source": []
  }
 ],
 "metadata": {
  "kernelspec": {
   "display_name": "Python 3",
   "language": "python",
   "name": "python3"
  },
  "language_info": {
   "codemirror_mode": {
    "name": "ipython",
    "version": 3
   },
   "file_extension": ".py",
   "mimetype": "text/x-python",
   "name": "python",
   "nbconvert_exporter": "python",
   "pygments_lexer": "ipython3",
   "version": "3.8.3"
  }
 },
 "nbformat": 4,
 "nbformat_minor": 4
}
